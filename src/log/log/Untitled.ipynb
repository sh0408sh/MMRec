{
 "cells": [
  {
   "cell_type": "code",
   "execution_count": 1,
   "id": "27e45c89-8752-4992-8c15-e61ebc416ae7",
   "metadata": {},
   "outputs": [],
   "source": [
    "import pandas as pd"
   ]
  },
  {
   "cell_type": "code",
   "execution_count": 10,
   "id": "833a99fa-f323-47cc-a5b4-ad258141eb1b",
   "metadata": {},
   "outputs": [],
   "source": [
    "log = pd.read_csv('BM3-baby-Jul-16-2024-19-29-04.log', delimiter=' ')"
   ]
  },
  {
   "cell_type": "code",
   "execution_count": 8,
   "id": "9aca097c-d98e-433f-9e80-335aa1ecf6e5",
   "metadata": {},
   "outputs": [
    {
     "data": {
      "text/html": [
       "<div>\n",
       "<style scoped>\n",
       "    .dataframe tbody tr th:only-of-type {\n",
       "        vertical-align: middle;\n",
       "    }\n",
       "\n",
       "    .dataframe tbody tr th {\n",
       "        vertical-align: top;\n",
       "    }\n",
       "\n",
       "    .dataframe thead th {\n",
       "        text-align: right;\n",
       "    }\n",
       "</style>\n",
       "<table border=\"1\" class=\"dataframe\">\n",
       "  <thead>\n",
       "    <tr style=\"text-align: right;\">\n",
       "      <th></th>\n",
       "      <th>Tue 16 Jul 2024 19:29:05 INFO ██Server:</th>\n",
       "      <th>sanghui001</th>\n",
       "    </tr>\n",
       "  </thead>\n",
       "  <tbody>\n",
       "    <tr>\n",
       "      <th>0</th>\n",
       "      <td>Tue 16 Jul 2024 19:29:05 INFO ██Dir:</td>\n",
       "      <td>/home/sh0408sh/workspace/MMRec/src</td>\n",
       "    </tr>\n",
       "    <tr>\n",
       "      <th>1</th>\n",
       "      <td>Tue 16 Jul 2024 19:29:05 INFO</td>\n",
       "      <td>NaN</td>\n",
       "    </tr>\n",
       "    <tr>\n",
       "      <th>2</th>\n",
       "      <td>gpu_id=0</td>\n",
       "      <td>NaN</td>\n",
       "    </tr>\n",
       "    <tr>\n",
       "      <th>3</th>\n",
       "      <td>use_gpu=True</td>\n",
       "      <td>NaN</td>\n",
       "    </tr>\n",
       "    <tr>\n",
       "      <th>4</th>\n",
       "      <td>seed=[999]</td>\n",
       "      <td>NaN</td>\n",
       "    </tr>\n",
       "    <tr>\n",
       "      <th>...</th>\n",
       "      <td>...</td>\n",
       "      <td>...</td>\n",
       "    </tr>\n",
       "    <tr>\n",
       "      <th>6508</th>\n",
       "      <td>Tue 16 Jul 2024 21:37:44 INFO</td>\n",
       "      <td>NaN</td>\n",
       "    </tr>\n",
       "    <tr>\n",
       "      <th>6509</th>\n",
       "      <td>█████████████ BEST ████████████████</td>\n",
       "      <td>NaN</td>\n",
       "    </tr>\n",
       "    <tr>\n",
       "      <th>6510</th>\n",
       "      <td>Tue 16 Jul 2024 21:37:44 INFO</td>\n",
       "      <td>Parameters: ['seed', 'n_layers', 'reg_weight',...</td>\n",
       "    </tr>\n",
       "    <tr>\n",
       "      <th>6511</th>\n",
       "      <td>Valid: recall@5: 0.0340    recall@10: 0.0538  ...</td>\n",
       "      <td>NaN</td>\n",
       "    </tr>\n",
       "    <tr>\n",
       "      <th>6512</th>\n",
       "      <td>Test: recall@5: 0.0331    recall@10: 0.0547   ...</td>\n",
       "      <td>NaN</td>\n",
       "    </tr>\n",
       "  </tbody>\n",
       "</table>\n",
       "<p>6513 rows × 2 columns</p>\n",
       "</div>"
      ],
      "text/plain": [
       "               Tue 16 Jul 2024 19:29:05 INFO ██Server:   \\\n",
       "0                 Tue 16 Jul 2024 19:29:05 INFO ██Dir:    \n",
       "1                        Tue 16 Jul 2024 19:29:05 INFO    \n",
       "2                                              gpu_id=0   \n",
       "3                                          use_gpu=True   \n",
       "4                                            seed=[999]   \n",
       "...                                                 ...   \n",
       "6508                     Tue 16 Jul 2024 21:37:44 INFO    \n",
       "6509                █████████████ BEST ████████████████   \n",
       "6510                     Tue 16 Jul 2024 21:37:44 INFO    \n",
       "6511  Valid: recall@5: 0.0340    recall@10: 0.0538  ...   \n",
       "6512  Test: recall@5: 0.0331    recall@10: 0.0547   ...   \n",
       "\n",
       "                                             sanghui001  \n",
       "0                    /home/sh0408sh/workspace/MMRec/src  \n",
       "1                                                   NaN  \n",
       "2                                                   NaN  \n",
       "3                                                   NaN  \n",
       "4                                                   NaN  \n",
       "...                                                 ...  \n",
       "6508                                                NaN  \n",
       "6509                                                NaN  \n",
       "6510  Parameters: ['seed', 'n_layers', 'reg_weight',...  \n",
       "6511                                                NaN  \n",
       "6512                                                NaN  \n",
       "\n",
       "[6513 rows x 2 columns]"
      ]
     },
     "execution_count": 8,
     "metadata": {},
     "output_type": "execute_result"
    }
   ],
   "source": [
    "log"
   ]
  }
 ],
 "metadata": {
  "kernelspec": {
   "display_name": "Python 3 (ipykernel)",
   "language": "python",
   "name": "python3"
  },
  "language_info": {
   "codemirror_mode": {
    "name": "ipython",
    "version": 3
   },
   "file_extension": ".py",
   "mimetype": "text/x-python",
   "name": "python",
   "nbconvert_exporter": "python",
   "pygments_lexer": "ipython3",
   "version": "3.11.7"
  }
 },
 "nbformat": 4,
 "nbformat_minor": 5
}
